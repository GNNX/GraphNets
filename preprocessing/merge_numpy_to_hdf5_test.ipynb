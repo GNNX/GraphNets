{
 "cells": [
  {
   "cell_type": "code",
   "execution_count": 1,
   "metadata": {},
   "outputs": [],
   "source": [
    "import os\n",
    "import h5py\n",
    "import argparse\n",
    "import numpy as np"
   ]
  },
  {
   "cell_type": "code",
   "execution_count": 2,
   "metadata": {},
   "outputs": [],
   "source": [
    "def parse_args():\n",
    "    parser = argparse.ArgumentParser(\n",
    "        description=\"Merges numpy arrays; outputs hdf5 file\")\n",
    "    parser.add_argument(\"input_file_list\",\n",
    "                        type=str, nargs=1,\n",
    "                        help=\"Path to input text file,\\\n",
    "                        each file on a different line.\")\n",
    "    parser.add_argument('output_file', type=str, nargs=1,\n",
    "                        help=\"Path to output file.\")  \n",
    "    args = parser.parse_args()\n",
    "    return args\n",
    "\n",
    "def count_events(files):\n",
    "    num_events = 0\n",
    "    for f in files:\n",
    "        data = np.load(f)\n",
    "        num_events += data['event_id'].shape[0]\n",
    "    return num_events\n"
   ]
  },
  {
   "cell_type": "code",
   "execution_count": 3,
   "metadata": {},
   "outputs": [],
   "source": [
    "EVENT_SHAPE = (15808, 2)"
   ]
  },
  {
   "cell_type": "code",
   "execution_count": null,
   "metadata": {},
   "outputs": [],
   "source": [
    "config = parse_args()\n",
    "\n",
    "#read in the input file list\n",
    "with open(config.input_file_list[0]) as f:\n",
    "    files = f.readlines()\n",
    "\n",
    "#remove whitespace \n",
    "files = [x.strip() for x in files] \n",
    "\n",
    "# -- Check that files were provided\n",
    "if len(files) == 0:\n",
    "    raise ValueError(\"No files provided!!\")\n",
    "print(\"Merging \"+str(len(files))+\" files\")\n",
    "\n",
    "num_events = count_events(files)\n"
   ]
  },
  {
   "cell_type": "code",
   "execution_count": 4,
   "metadata": {},
   "outputs": [
    {
     "name": "stdout",
     "output_type": "stream",
     "text": [
      "3000\n"
     ]
    }
   ],
   "source": [
    "files = [\"IWCDmPMT_4pi_full_tank_e-_E0to1000MeV_unif-pos-R371-y521cm_4pi-dir_3000evts_518.npz\"]\n",
    "num_events = count_events(files)\n",
    "print(num_events)"
   ]
  },
  {
   "cell_type": "code",
   "execution_count": 5,
   "metadata": {},
   "outputs": [],
   "source": [
    "# Only use 32 bit precision\n",
    "dtype_events = np.dtype(np.float32)\n",
    "dtype_labels = np.dtype(np.int32)\n",
    "dtype_energies = np.dtype(np.float32)\n",
    "dtype_positions = np.dtype(np.float32)\n",
    "dtype_IDX = np.dtype(np.int32)\n",
    "dtype_PATHS = h5py.special_dtype(vlen=str)\n",
    "dtype_angles = np.dtype(np.float32)\n",
    "\n",
    "# Initialize HDF5\n",
    "# h5_file = h5py.File(config.output_file[0], 'w')\n",
    "h5_file = h5py.File(\"test.h5\", 'w')\n",
    "dset_event_data = h5_file.create_dataset(\"event_data\",\n",
    "                                   shape=(num_events,)+EVENT_SHAPE,\n",
    "                                   dtype=dtype_events)\n",
    "dset_labels = h5_file.create_dataset(\"labels\",\n",
    "                               shape=(num_events,),\n",
    "                               dtype=dtype_labels)\n",
    "dset_energies = h5_file.create_dataset(\"energies\",\n",
    "                                 shape=(num_events, 1),\n",
    "                                 dtype=dtype_energies)\n",
    "dset_positions = h5_file.create_dataset(\"positions\",\n",
    "                                  shape=(num_events, 1, 3),\n",
    "                                  dtype=dtype_positions)\n",
    "dset_IDX = h5_file.create_dataset(\"event_ids\",\n",
    "                            shape=(num_events,),\n",
    "                            dtype=dtype_IDX)\n",
    "dset_PATHS = h5_file.create_dataset(\"root_files\",\n",
    "                              shape=(num_events,),\n",
    "                              dtype=dtype_PATHS)\n",
    "dset_angles = h5_file.create_dataset(\"angles\",\n",
    "                             shape=(num_events, 2),\n",
    "                             dtype=dtype_angles)"
   ]
  },
  {
   "cell_type": "code",
   "execution_count": 6,
   "metadata": {},
   "outputs": [
    {
     "name": "stdout",
     "output_type": "stream",
     "text": [
      "Finished file: IWCDmPMT_4pi_full_tank_e-_E0to1000MeV_unif-pos-R371-y521cm_4pi-dir_3000evts_518.npz\n"
     ]
    }
   ],
   "source": [
    "offset = 0\n",
    "\n",
    "for filename in files:\n",
    "    data = np.load(filename, allow_pickle=True)\n",
    "    \n",
    "    # Meta data of file\n",
    "    num_events_in_file = len(data['digi_hit_pmt'])\n",
    "    x_data = np.zeros((num_events_in_file,)+EVENT_SHAPE, \n",
    "                      dtype=dtype_events)\n",
    "    digi_hit_pmt = data['digi_hit_pmt']\n",
    "    digi_hit_charge = data['digi_hit_charge']\n",
    "    digi_hit_time = data['digi_hit_time']\n",
    "    \n",
    "    # Storing the events\n",
    "    for i in range(num_events_in_file):\n",
    "        hit_pmts = digi_hit_pmt[i]\n",
    "        charge = digi_hit_charge[i]\n",
    "        time = digi_hit_time[i]\n",
    "        for j in range(len(hit_pmts)):\n",
    "            ### Parsing the data ###\n",
    "            hit_pmt = hit_pmts[j]\n",
    "            x_data[i, hit_pmt, 0] = charge[j]\n",
    "            x_data[i, hit_pmt, 1] = time[j]\n",
    "    \n",
    "    # More meta data\n",
    "    directions = data['direction']\n",
    "    if 'IWCDmPMT_4pi_full_tank_gamma' in filename:\n",
    "        labels = np.zeros(num_events_in_file)\n",
    "        e_mass=0.51099895000\n",
    "        energies=np.expand_dims(data['energy'],1)\n",
    "        mag_momenta=np.sqrt(energies**2-e_mass**2)\n",
    "        mag_momenta=np.expand_dims(mag_momenta,2)\n",
    "        momenta=mag_momenta*directions\n",
    "        momenta_sum=np.sum(momenta,axis=1)\n",
    "        momenta_sum_adj=momenta_sum[:,[2,0,1]]\n",
    "        momenta_sum_adj_mag=np.sqrt(np.sum(momenta_sum_adj**2,axis=1))\n",
    "        directions_proper=momenta_sum_adj/np.expand_dims(momenta_sum_adj_mag,1)\n",
    "        energies = np.sum(energies, axis=1).reshape(-1,1)\n",
    "        positions = np.expand_dims(data['position'],1)[:,0,:].reshape(-1, 1,3)\n",
    "    elif 'IWCDmPMT_4pi_full_tank_e-' in filename:\n",
    "        labels = np.ones(num_events_in_file)\n",
    "        energies = np.expand_dims(data['energy'],1)\n",
    "        positions = np.expand_dims(data['position'],1)\n",
    "        directions = directions.squeeze()\n",
    "        directions_proper = directions[:,[2,0,1]]\n",
    "    elif 'IWCDmPMT_4pi_full_tank_mu-' in filename:\n",
    "        labels = np.full(num_events_in_file, 2)\n",
    "        energies = np.expand_dims(data['energy'],1)\n",
    "        positions = np.expand_dims(data['position'],1)\n",
    "        directions = directions.squeeze()\n",
    "        directions_proper = directions[:,[2,0,1]]\n",
    "    else:\n",
    "        raise ValueError(\"File {} is not electron, muon or gamma\".format(filename))\n",
    "    energies = energies.astype(dtype_energies)\n",
    "    positions = positions.astype(dtype_positions)\n",
    "    planar_mag=np.sqrt(np.sum(directions_proper[:,[0,1]]**2,axis=1))\n",
    "    azimuthal=np.arctan2(directions_proper[:,1],directions_proper[:,0])\n",
    "    polar=np.arctan2(directions_proper[:,2],planar_mag)\n",
    "    azimuthal=azimuthal.reshape(-1,1)\n",
    "    polar=polar.reshape(-1,1)\n",
    "    angles=np.hstack((polar,azimuthal))\n",
    "\n",
    "    PATHS = data['root_file'].astype(dtype_PATHS)\n",
    "    IDX = data['event_id'].astype(dtype_IDX)\n",
    "\n",
    "    offset_next = offset + num_events_in_file\n",
    "\n",
    "    dset_event_data[offset:offset_next,:] = x_data\n",
    "    dset_labels[offset:offset_next] = labels\n",
    "    dset_energies[offset:offset_next,:] = energies\n",
    "    dset_positions[offset:offset_next,:,:] = positions\n",
    "    dset_PATHS[offset:offset_next] = PATHS\n",
    "    dset_IDX[offset:offset_next] = IDX\n",
    "    dset_angles[offset:offset_next,:] = angles\n",
    "\n",
    "    offset = offset_next\n",
    "    print(\"Finished file: {}\".format(filename))"
   ]
  },
  {
   "cell_type": "code",
   "execution_count": 7,
   "metadata": {},
   "outputs": [
    {
     "name": "stdout",
     "output_type": "stream",
     "text": [
      "Saving\n",
      "Finished\n"
     ]
    }
   ],
   "source": [
    "print(\"Saving\")\n",
    "h5_file.close()\n",
    "print(\"Finished\")"
   ]
  },
  {
   "cell_type": "code",
   "execution_count": null,
   "metadata": {},
   "outputs": [],
   "source": []
  }
 ],
 "metadata": {
  "kernelspec": {
   "display_name": "Python 3",
   "language": "python",
   "name": "python3"
  },
  "language_info": {
   "codemirror_mode": {
    "name": "ipython",
    "version": 3
   },
   "file_extension": ".py",
   "mimetype": "text/x-python",
   "name": "python",
   "nbconvert_exporter": "python",
   "pygments_lexer": "ipython3",
   "version": "3.6.5"
  }
 },
 "nbformat": 4,
 "nbformat_minor": 2
}
